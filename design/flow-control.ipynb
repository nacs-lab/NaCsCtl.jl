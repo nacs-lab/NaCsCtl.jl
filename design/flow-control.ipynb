{
 "cells": [
  {
   "cell_type": "markdown",
   "metadata": {},
   "source": [
    "# Design and goal of dynamic logic and flow control"
   ]
  },
  {
   "cell_type": "code",
   "execution_count": 3,
   "metadata": {
    "collapsed": false
   },
   "outputs": [
    {
     "data": {
      "text/plain": [
       "@dyn (macro with 1 method)"
      ]
     },
     "execution_count": 3,
     "metadata": {},
     "output_type": "execute_result"
    }
   ],
   "source": [
    "## Dummy definition of the necessar macros\n",
    "macro dyn(arg)\n",
    "    esc(arg)\n",
    "end"
   ]
  },
  {
   "cell_type": "markdown",
   "metadata": {},
   "source": [
    "## Examples\n",
    "\n",
    "A few different cases to support and the requirement for each of them\n",
    "\n",
    "### Simple logic\n",
    "\n",
    "* The simplest case"
   ]
  },
  {
   "cell_type": "code",
   "execution_count": 7,
   "metadata": {
    "collapsed": false
   },
   "outputs": [
    {
     "data": {
      "text/plain": [
       "seq1 (generic function with 1 method)"
      ]
     },
     "execution_count": 7,
     "metadata": {},
     "output_type": "execute_result"
    }
   ],
   "source": [
    "function seq1()\n",
    "    addStep(\"init_seq\")\n",
    "    @dyn if someCondition()\n",
    "        addStep(\"cond_seq\")\n",
    "    end\n",
    "    addStep(\"final_seq\")\n",
    "end"
   ]
  },
  {
   "cell_type": "markdown",
   "metadata": {},
   "source": [
    "* Complex and calculated condition"
   ]
  },
  {
   "cell_type": "code",
   "execution_count": 8,
   "metadata": {
    "collapsed": false
   },
   "outputs": [
    {
     "data": {
      "text/plain": [
       "seq2 (generic function with 1 method)"
      ]
     },
     "execution_count": 8,
     "metadata": {},
     "output_type": "execute_result"
    }
   ],
   "source": [
    "function seq2()\n",
    "    addStep(\"init_seq\")\n",
    "    @dyn if someValue() > someOtherValue()\n",
    "        addStep(\"cond_seq\")\n",
    "    end\n",
    "    addStep(\"final_seq\")\n",
    "end"
   ]
  },
  {
   "cell_type": "markdown",
   "metadata": {},
   "source": [
    "* Loops"
   ]
  },
  {
   "cell_type": "code",
   "execution_count": 9,
   "metadata": {
    "collapsed": false
   },
   "outputs": [
    {
     "data": {
      "text/plain": [
       "seq3 (generic function with 1 method)"
      ]
     },
     "execution_count": 9,
     "metadata": {},
     "output_type": "execute_result"
    }
   ],
   "source": [
    "function seq3()\n",
    "    addStep(\"init_seq\")\n",
    "    @dyn while someValue() > 1\n",
    "        addStep(\"loop_seq\")\n",
    "    end\n",
    "    addStep(\"final_seq\")\n",
    "end"
   ]
  },
  {
   "cell_type": "markdown",
   "metadata": {},
   "source": [
    "* For loops and complex looping conditions"
   ]
  },
  {
   "cell_type": "code",
   "execution_count": 10,
   "metadata": {
    "collapsed": false
   },
   "outputs": [
    {
     "data": {
      "text/plain": [
       "seq4 (generic function with 1 method)"
      ]
     },
     "execution_count": 10,
     "metadata": {},
     "output_type": "execute_result"
    }
   ],
   "source": [
    "function seq4()\n",
    "    addStep(\"init_seq\")\n",
    "    @dyn for i in 1:someValue()\n",
    "        addStep(\"loop_seq\")\n",
    "    end\n",
    "\n",
    "    addStep(\"final_seq\")\n",
    "end"
   ]
  },
  {
   "cell_type": "markdown",
   "metadata": {},
   "source": [
    "### Nested flow control"
   ]
  },
  {
   "cell_type": "code",
   "execution_count": 11,
   "metadata": {
    "collapsed": false
   },
   "outputs": [
    {
     "data": {
      "text/plain": [
       "seq5 (generic function with 1 method)"
      ]
     },
     "execution_count": 11,
     "metadata": {},
     "output_type": "execute_result"
    }
   ],
   "source": [
    "function seq5()\n",
    "    addStep(\"init_seq\")\n",
    "    for i in 1:someValue()\n",
    "        addStep(\"loop_seq\")\n",
    "        if someCondition()\n",
    "            break\n",
    "        end\n",
    "        addStep(\"loop_seq_p2\")\n",
    "    end\n",
    "    addStep(\"final_seq\")\n",
    "end"
   ]
  },
  {
   "cell_type": "markdown",
   "metadata": {},
   "source": [
    "### Parallel condition"
   ]
  },
  {
   "cell_type": "code",
   "execution_count": 12,
   "metadata": {
    "collapsed": false
   },
   "outputs": [
    {
     "data": {
      "text/plain": [
       "seq6 (generic function with 1 method)"
      ]
     },
     "execution_count": 12,
     "metadata": {},
     "output_type": "execute_result"
    }
   ],
   "source": [
    "function sub_seq1()\n",
    "    if someCondition()\n",
    "        addStep(\"cond_seq1\")\n",
    "    end\n",
    "    addStep(\"sth_else\")\n",
    "end\n",
    "\n",
    "function sub_seq2()\n",
    "    if someCondition2()\n",
    "        addStep(\"cond_seq2\")\n",
    "    end\n",
    "    addStep(\"sth_else2\")\n",
    "end\n",
    "\n",
    "function seq6()\n",
    "    t1 = addBackground(sub_seq1)\n",
    "    t2 = addBackground(sub_seq2)\n",
    "    join(t1, t2)\n",
    "    addStep(\"final_seq\")\n",
    "end"
   ]
  },
  {
   "cell_type": "markdown",
   "metadata": {},
   "source": [
    "### Parametrized pulses and steps\n",
    "\n",
    "This is likely VEEERY hard"
   ]
  },
  {
   "cell_type": "code",
   "execution_count": 13,
   "metadata": {
    "collapsed": false
   },
   "outputs": [
    {
     "data": {
      "text/plain": [
       "seq7 (generic function with 1 method)"
      ]
     },
     "execution_count": 13,
     "metadata": {},
     "output_type": "execute_result"
    }
   ],
   "source": [
    "function seq7()\n",
    "    addStep(\"init_seq\")\n",
    "    addStep(1) do\n",
    "        add(someCondition() ? \"someChannel\" : \"someOtherChannel\", 1)\n",
    "        add(\"someChannel\", someValue() * 3 - 2)\n",
    "    end\n",
    "    addStep(\"final_seq\")\n",
    "end"
   ]
  }
 ],
 "metadata": {
  "kernelspec": {
   "display_name": "Julia 0.5.0-dev",
   "language": "julia",
   "name": "julia-0.5"
  },
  "language_info": {
   "file_extension": ".jl",
   "mimetype": "application/julia",
   "name": "julia",
   "version": "0.5.0"
  }
 },
 "nbformat": 4,
 "nbformat_minor": 0
}
